{
  "nbformat": 4,
  "nbformat_minor": 0,
  "metadata": {
    "colab": {
      "provenance": []
    },
    "kernelspec": {
      "name": "python3",
      "display_name": "Python 3"
    },
    "language_info": {
      "name": "python"
    }
  },
  "cells": [
    {
      "cell_type": "code",
      "execution_count": null,
      "metadata": {
        "colab": {
          "base_uri": "https://localhost:8080/"
        },
        "id": "UFc1eX7Zp1X3",
        "outputId": "0fb8207c-286e-43f4-e5b1-cb8318884f34"
      },
      "outputs": [
        {
          "output_type": "stream",
          "name": "stdout",
          "text": [
            "['Joseph', 'Glenn', 'Sally']\n",
            "['socks', 'shirt', 'perfume']\n",
            "4\n",
            "[1, 24, 76]\n",
            "['red', 'yellow', 'blue']\n",
            "['red', 24, 98.6]\n",
            "[1, [5, 6], 7]\n",
            "[]\n",
            "5\n",
            "Blastoff!\n",
            "4\n",
            "Blastoff!\n",
            "3\n",
            "Blastoff!\n",
            "2\n",
            "Blastoff!\n",
            "1\n",
            "Blastoff!\n",
            "Happy New Year:  Joseph\n",
            "Happy New Year:  Glenn\n",
            "Happy New Year:  Sally\n",
            "Done!\n",
            "Glenn\n"
          ]
        }
      ],
      "source": [
        "#import numpy as np\n",
        "#import pandas as pd\n",
        "\n",
        "# matplotlib.pyplot as plt\n",
        "#from IPython.display import Image\n",
        "\n",
        "#from scipy import *\n",
        "#import scipy.linalg as la\n",
        "\n",
        "\n",
        "\n",
        "friends = [ 'Joseph', 'Glenn', 'Sally']\n",
        "carryon = ['socks', 'shirt', 'perfume']\n",
        "\n",
        "print(friends)\n",
        "print(carryon)\n",
        "\n",
        "x = 2\n",
        "x = \"Hello\"\n",
        "x = 4\n",
        "print(x)\n",
        "\n",
        "print([1,24,76])\n",
        "print(['red', 'yellow', 'blue'])\n",
        "print(['red', 24, 98.6])\n",
        "print([1,[5,6],7])\n",
        "print([])\n",
        "\n",
        "\n",
        "for i in [5,4,3,2,1]:\n",
        "  print(i)\n",
        "  print('Blastoff!')\n",
        "\n",
        "for friend in friends:\n",
        "  print('Happy New Year: ', friend)\n",
        "print('Done!')\n",
        "\n",
        "print(friends[1])"
      ]
    },
    {
      "cell_type": "code",
      "source": [
        "print(friends[1])"
      ],
      "metadata": {
        "colab": {
          "base_uri": "https://localhost:8080/"
        },
        "id": "y-s98zgzxd2u",
        "outputId": "0e6191d5-bbd3-4dc7-ba83-36cd5a47cd21"
      },
      "execution_count": null,
      "outputs": [
        {
          "output_type": "stream",
          "name": "stdout",
          "text": [
            "Glenn\n"
          ]
        }
      ]
    },
    {
      "cell_type": "code",
      "source": [
        "fruit = 'Banana'\n",
        "fruit[0]= \"b\""
      ],
      "metadata": {
        "colab": {
          "base_uri": "https://localhost:8080/",
          "height": 192
        },
        "id": "QlJIyBqgxd6c",
        "outputId": "ec5ef7d1-d6e9-46ee-b673-fccdde0249b1"
      },
      "execution_count": null,
      "outputs": [
        {
          "output_type": "error",
          "ename": "TypeError",
          "evalue": "ignored",
          "traceback": [
            "\u001b[0;31m---------------------------------------------------------------------------\u001b[0m",
            "\u001b[0;31mTypeError\u001b[0m                                 Traceback (most recent call last)",
            "\u001b[0;32m<ipython-input-17-58906b9d51b3>\u001b[0m in \u001b[0;36m<cell line: 2>\u001b[0;34m()\u001b[0m\n\u001b[1;32m      1\u001b[0m \u001b[0mfruit\u001b[0m \u001b[0;34m=\u001b[0m \u001b[0;34m'Banana'\u001b[0m\u001b[0;34m\u001b[0m\u001b[0;34m\u001b[0m\u001b[0m\n\u001b[0;32m----> 2\u001b[0;31m \u001b[0mfruit\u001b[0m\u001b[0;34m[\u001b[0m\u001b[0;36m0\u001b[0m\u001b[0;34m]\u001b[0m\u001b[0;34m=\u001b[0m \u001b[0;34m\"b\"\u001b[0m\u001b[0;34m\u001b[0m\u001b[0;34m\u001b[0m\u001b[0m\n\u001b[0m",
            "\u001b[0;31mTypeError\u001b[0m: 'str' object does not support item assignment"
          ]
        }
      ]
    },
    {
      "cell_type": "code",
      "source": [
        "x = fruit.lower()\n",
        "print(x)"
      ],
      "metadata": {
        "colab": {
          "base_uri": "https://localhost:8080/"
        },
        "id": "w-vWz6I_xd9M",
        "outputId": "5f886c38-3e20-4546-8e24-6e1d822789ca"
      },
      "execution_count": null,
      "outputs": [
        {
          "output_type": "stream",
          "name": "stdout",
          "text": [
            "banana\n"
          ]
        }
      ]
    },
    {
      "cell_type": "code",
      "source": [
        "lotto = [2,14,26,41,63]\n",
        "print(lotto)\n",
        "lotto[2]=28\n",
        "print(lotto)"
      ],
      "metadata": {
        "colab": {
          "base_uri": "https://localhost:8080/"
        },
        "id": "ZyM3SLrCxd-8",
        "outputId": "6518f26e-409b-4ef5-be31-7c16ad8741eb"
      },
      "execution_count": null,
      "outputs": [
        {
          "output_type": "stream",
          "name": "stdout",
          "text": [
            "[2, 14, 26, 41, 63]\n",
            "[2, 14, 28, 41, 63]\n"
          ]
        }
      ]
    },
    {
      "cell_type": "code",
      "source": [
        "lotto[5]=\"zafira\"\n",
        "print(lotto)"
      ],
      "metadata": {
        "colab": {
          "base_uri": "https://localhost:8080/",
          "height": 192
        },
        "id": "FfETAMGh-VHL",
        "outputId": "679b3de7-d5a1-40a3-a811-84760fdcfa0a"
      },
      "execution_count": null,
      "outputs": [
        {
          "output_type": "error",
          "ename": "IndexError",
          "evalue": "ignored",
          "traceback": [
            "\u001b[0;31m---------------------------------------------------------------------------\u001b[0m",
            "\u001b[0;31mIndexError\u001b[0m                                Traceback (most recent call last)",
            "\u001b[0;32m<ipython-input-20-b6b15fe8f77e>\u001b[0m in \u001b[0;36m<cell line: 1>\u001b[0;34m()\u001b[0m\n\u001b[0;32m----> 1\u001b[0;31m \u001b[0mlotto\u001b[0m\u001b[0;34m[\u001b[0m\u001b[0;36m5\u001b[0m\u001b[0;34m]\u001b[0m\u001b[0;34m=\u001b[0m\u001b[0;34m\"zafira\"\u001b[0m\u001b[0;34m\u001b[0m\u001b[0;34m\u001b[0m\u001b[0m\n\u001b[0m\u001b[1;32m      2\u001b[0m \u001b[0mprint\u001b[0m\u001b[0;34m(\u001b[0m\u001b[0mlotto\u001b[0m\u001b[0;34m)\u001b[0m\u001b[0;34m\u001b[0m\u001b[0;34m\u001b[0m\u001b[0m\n",
            "\u001b[0;31mIndexError\u001b[0m: list assignment index out of range"
          ]
        }
      ]
    },
    {
      "cell_type": "code",
      "source": [
        "lotto.append('zafira')"
      ],
      "metadata": {
        "id": "oKA7Zm6u_FFl"
      },
      "execution_count": null,
      "outputs": []
    },
    {
      "cell_type": "code",
      "source": [
        "print(lotto)"
      ],
      "metadata": {
        "colab": {
          "base_uri": "https://localhost:8080/"
        },
        "id": "0DZ50PyB_NqU",
        "outputId": "fb66bd23-51e6-497b-df26-6f6ec5a343fe"
      },
      "execution_count": null,
      "outputs": [
        {
          "output_type": "stream",
          "name": "stdout",
          "text": [
            "[2, 14, 28, 41, 63, 'zafira']\n"
          ]
        }
      ]
    },
    {
      "cell_type": "code",
      "source": [
        "lotto[5]=\"new\"\n",
        "print(lotto)"
      ],
      "metadata": {
        "colab": {
          "base_uri": "https://localhost:8080/"
        },
        "id": "LcR3dlhb_QyD",
        "outputId": "25bd6e29-7e6d-4191-8a3d-9267fd7afb5e"
      },
      "execution_count": null,
      "outputs": [
        {
          "output_type": "stream",
          "name": "stdout",
          "text": [
            "[2, 14, 28, 41, 63, 'new']\n"
          ]
        }
      ]
    },
    {
      "cell_type": "code",
      "source": [
        "lotto[5]=45\n",
        "print(lotto)"
      ],
      "metadata": {
        "colab": {
          "base_uri": "https://localhost:8080/"
        },
        "id": "1oEjqeD0_W6I",
        "outputId": "1ad5e6cc-5449-479d-c2b6-c495682daa55"
      },
      "execution_count": null,
      "outputs": [
        {
          "output_type": "stream",
          "name": "stdout",
          "text": [
            "[2, 14, 28, 41, 63, 45]\n"
          ]
        }
      ]
    },
    {
      "cell_type": "code",
      "source": [
        "greet = \"Hello Bob!\"\n",
        "print(len(greet))"
      ],
      "metadata": {
        "colab": {
          "base_uri": "https://localhost:8080/"
        },
        "id": "fmLWNajD_dtX",
        "outputId": "c5d3fd8f-0e01-46a7-d8dc-16cd8b15d0ce"
      },
      "execution_count": null,
      "outputs": [
        {
          "output_type": "stream",
          "name": "stdout",
          "text": [
            "10\n"
          ]
        }
      ]
    },
    {
      "cell_type": "code",
      "source": [
        "x = [1,2,'joe', 99]\n",
        "print(len(x))\n",
        "print(len(x[2]))"
      ],
      "metadata": {
        "colab": {
          "base_uri": "https://localhost:8080/"
        },
        "id": "KmAX2iPDADi7",
        "outputId": "77214cfc-64bd-496e-898e-c3c329ff11bd"
      },
      "execution_count": null,
      "outputs": [
        {
          "output_type": "stream",
          "name": "stdout",
          "text": [
            "4\n",
            "3\n"
          ]
        }
      ]
    },
    {
      "cell_type": "code",
      "source": [
        "print(range(5))"
      ],
      "metadata": {
        "colab": {
          "base_uri": "https://localhost:8080/"
        },
        "id": "0zia7ZWMAMBa",
        "outputId": "58e2f657-f9eb-4194-baad-ec0238c72a67"
      },
      "execution_count": null,
      "outputs": [
        {
          "output_type": "stream",
          "name": "stdout",
          "text": [
            "range(0, 5)\n"
          ]
        }
      ]
    },
    {
      "cell_type": "code",
      "source": [
        "A = range(7)\n",
        "print(A)\n",
        "print(len(A))"
      ],
      "metadata": {
        "colab": {
          "base_uri": "https://localhost:8080/"
        },
        "id": "LQ8dUwMgAb2Q",
        "outputId": "ebf27511-a0b1-4ba3-dc8f-58004548f27b"
      },
      "execution_count": null,
      "outputs": [
        {
          "output_type": "stream",
          "name": "stdout",
          "text": [
            "range(0, 7)\n",
            "7\n"
          ]
        }
      ]
    },
    {
      "cell_type": "code",
      "source": [
        "for i in range(len(friends)):\n",
        "  friend=friends[i]\n",
        "  print(\"Happy New Year: \",friend)"
      ],
      "metadata": {
        "colab": {
          "base_uri": "https://localhost:8080/"
        },
        "id": "wgL8z20RAx4g",
        "outputId": "c191bd1d-e874-4e6b-9bf2-7f2e33c641f2"
      },
      "execution_count": null,
      "outputs": [
        {
          "output_type": "stream",
          "name": "stdout",
          "text": [
            "Happy New Year:  Joseph\n",
            "Happy New Year:  Glenn\n",
            "Happy New Year:  Sally\n"
          ]
        }
      ]
    },
    {
      "cell_type": "code",
      "source": [
        "a = [1,2,3]\n",
        "b = [4,5,6]\n",
        "c = a + b\n",
        "print(c)"
      ],
      "metadata": {
        "colab": {
          "base_uri": "https://localhost:8080/"
        },
        "id": "-fO1xn56BizE",
        "outputId": "eb93edb5-e4b9-4d37-806c-c48e38e02508"
      },
      "execution_count": null,
      "outputs": [
        {
          "output_type": "stream",
          "name": "stdout",
          "text": [
            "[1, 2, 3, 4, 5, 6]\n"
          ]
        }
      ]
    },
    {
      "cell_type": "code",
      "source": [
        "d = [6,7]\n",
        "e = c + d\n",
        "print(e)"
      ],
      "metadata": {
        "colab": {
          "base_uri": "https://localhost:8080/"
        },
        "id": "92Bbqk0eCADP",
        "outputId": "527a0f02-f8ec-4c6d-b99d-f70720746d96"
      },
      "execution_count": null,
      "outputs": [
        {
          "output_type": "stream",
          "name": "stdout",
          "text": [
            "[1, 2, 3, 4, 5, 6, 6, 7]\n"
          ]
        }
      ]
    },
    {
      "cell_type": "code",
      "source": [
        "t = [9,41, 12, 3, 74, 15]\n",
        "print(t[1:3])\n",
        "print(t[:4])\n",
        "print(t[3:])\n",
        "print(t[:])\n",
        "t[::2]\n"
      ],
      "metadata": {
        "colab": {
          "base_uri": "https://localhost:8080/"
        },
        "id": "Y2S-zEw9CAIR",
        "outputId": "e317b8fc-581a-4c8c-d113-b370c60608e0"
      },
      "execution_count": null,
      "outputs": [
        {
          "output_type": "stream",
          "name": "stdout",
          "text": [
            "[41, 12]\n",
            "[9, 41, 12, 3]\n",
            "[3, 74, 15]\n",
            "[9, 41, 12, 3, 74, 15]\n"
          ]
        },
        {
          "output_type": "execute_result",
          "data": {
            "text/plain": [
              "[9, 12, 74]"
            ]
          },
          "metadata": {},
          "execution_count": 42
        }
      ]
    },
    {
      "cell_type": "code",
      "source": [
        "x=[1,2,3]\n",
        "type(x)\n",
        "dir(x)"
      ],
      "metadata": {
        "colab": {
          "base_uri": "https://localhost:8080/"
        },
        "id": "YQ-y8CguCAKO",
        "outputId": "60753dda-9476-46bb-ac9c-789580a4fd74"
      },
      "execution_count": null,
      "outputs": [
        {
          "output_type": "execute_result",
          "data": {
            "text/plain": [
              "['__add__',\n",
              " '__class__',\n",
              " '__class_getitem__',\n",
              " '__contains__',\n",
              " '__delattr__',\n",
              " '__delitem__',\n",
              " '__dir__',\n",
              " '__doc__',\n",
              " '__eq__',\n",
              " '__format__',\n",
              " '__ge__',\n",
              " '__getattribute__',\n",
              " '__getitem__',\n",
              " '__gt__',\n",
              " '__hash__',\n",
              " '__iadd__',\n",
              " '__imul__',\n",
              " '__init__',\n",
              " '__init_subclass__',\n",
              " '__iter__',\n",
              " '__le__',\n",
              " '__len__',\n",
              " '__lt__',\n",
              " '__mul__',\n",
              " '__ne__',\n",
              " '__new__',\n",
              " '__reduce__',\n",
              " '__reduce_ex__',\n",
              " '__repr__',\n",
              " '__reversed__',\n",
              " '__rmul__',\n",
              " '__setattr__',\n",
              " '__setitem__',\n",
              " '__sizeof__',\n",
              " '__str__',\n",
              " '__subclasshook__',\n",
              " 'append',\n",
              " 'clear',\n",
              " 'copy',\n",
              " 'count',\n",
              " 'extend',\n",
              " 'index',\n",
              " 'insert',\n",
              " 'pop',\n",
              " 'remove',\n",
              " 'reverse',\n",
              " 'sort']"
            ]
          },
          "metadata": {},
          "execution_count": 43
        }
      ]
    },
    {
      "cell_type": "code",
      "source": [
        "stuff = list()\n",
        "stuff.append('book')\n",
        "stuff.append(99)\n",
        "print(stuff)\n",
        "stuff.append('cookie')\n",
        "\n",
        "print(stuff)\n",
        "stuff.remove(99)\n",
        "print(stuff)\n"
      ],
      "metadata": {
        "colab": {
          "base_uri": "https://localhost:8080/"
        },
        "id": "ymqUJAy3CAMB",
        "outputId": "330222bc-f2e4-458c-c1d3-d683d3c0c52f"
      },
      "execution_count": null,
      "outputs": [
        {
          "output_type": "stream",
          "name": "stdout",
          "text": [
            "['book', 99]\n",
            "['book', 99, 'cookie']\n",
            "['book', 'cookie']\n"
          ]
        }
      ]
    },
    {
      "cell_type": "code",
      "source": [
        "some=[1,9,21,10,16,\"Hey\"]\n",
        "9 in some\n"
      ],
      "metadata": {
        "colab": {
          "base_uri": "https://localhost:8080/"
        },
        "id": "Yu4aAO0yCANt",
        "outputId": "dac1c12a-89a6-4ed5-f6f7-36ba31d0f14c"
      },
      "execution_count": null,
      "outputs": [
        {
          "output_type": "execute_result",
          "data": {
            "text/plain": [
              "True"
            ]
          },
          "metadata": {},
          "execution_count": 53
        }
      ]
    },
    {
      "cell_type": "code",
      "source": [
        "15 in some\n"
      ],
      "metadata": {
        "colab": {
          "base_uri": "https://localhost:8080/"
        },
        "id": "SGGWiz0UGCVA",
        "outputId": "7a8ff3c1-1152-43bf-d475-1fbfca285ef9"
      },
      "execution_count": null,
      "outputs": [
        {
          "output_type": "execute_result",
          "data": {
            "text/plain": [
              "False"
            ]
          },
          "metadata": {},
          "execution_count": 54
        }
      ]
    },
    {
      "cell_type": "code",
      "source": [
        "20 in some\n"
      ],
      "metadata": {
        "colab": {
          "base_uri": "https://localhost:8080/"
        },
        "id": "BA8HM0HAGCXu",
        "outputId": "7a6f068c-72d2-47ff-be06-fe80d941cf00"
      },
      "execution_count": null,
      "outputs": [
        {
          "output_type": "execute_result",
          "data": {
            "text/plain": [
              "False"
            ]
          },
          "metadata": {},
          "execution_count": 55
        }
      ]
    },
    {
      "cell_type": "code",
      "source": [
        "\"Hey\" not in some"
      ],
      "metadata": {
        "colab": {
          "base_uri": "https://localhost:8080/"
        },
        "id": "Llwc9v74GCaD",
        "outputId": "a26cd499-7a1e-4092-fc95-fd0b054375f3"
      },
      "execution_count": null,
      "outputs": [
        {
          "output_type": "execute_result",
          "data": {
            "text/plain": [
              "False"
            ]
          },
          "metadata": {},
          "execution_count": 57
        }
      ]
    },
    {
      "cell_type": "code",
      "source": [
        "print(9 in some)\n",
        "print(\"Hey\" in some)\n",
        "print(15 in some)"
      ],
      "metadata": {
        "colab": {
          "base_uri": "https://localhost:8080/"
        },
        "id": "1mhiloUuGCcJ",
        "outputId": "685dbb4f-fefd-41a3-9d6d-634d9013c8f5"
      },
      "execution_count": null,
      "outputs": [
        {
          "output_type": "stream",
          "name": "stdout",
          "text": [
            "True\n",
            "True\n",
            "False\n"
          ]
        }
      ]
    },
    {
      "cell_type": "code",
      "source": [
        "friends.sort()\n",
        "print(friends)\n",
        "print(friends[1])"
      ],
      "metadata": {
        "colab": {
          "base_uri": "https://localhost:8080/"
        },
        "id": "xppYo4nBGl-X",
        "outputId": "b1b009c9-ce3a-4066-8b64-5aa3c3f4a7e1"
      },
      "execution_count": null,
      "outputs": [
        {
          "output_type": "stream",
          "name": "stdout",
          "text": [
            "['Glenn', 'Joseph', 'Sally']\n",
            "Joseph\n"
          ]
        }
      ]
    },
    {
      "cell_type": "code",
      "source": [
        "some=[1,9,21,10,16,\"Hey\"]\n",
        "some.sort()\n",
        "print(some)"
      ],
      "metadata": {
        "colab": {
          "base_uri": "https://localhost:8080/",
          "height": 210
        },
        "id": "SA3ZkepIGmDP",
        "outputId": "85627190-a1cd-4fd8-ce91-3ec4c83ba706"
      },
      "execution_count": null,
      "outputs": [
        {
          "output_type": "error",
          "ename": "TypeError",
          "evalue": "ignored",
          "traceback": [
            "\u001b[0;31m---------------------------------------------------------------------------\u001b[0m",
            "\u001b[0;31mTypeError\u001b[0m                                 Traceback (most recent call last)",
            "\u001b[0;32m<ipython-input-63-819575109a6d>\u001b[0m in \u001b[0;36m<cell line: 2>\u001b[0;34m()\u001b[0m\n\u001b[1;32m      1\u001b[0m \u001b[0msome\u001b[0m\u001b[0;34m=\u001b[0m\u001b[0;34m[\u001b[0m\u001b[0;36m1\u001b[0m\u001b[0;34m,\u001b[0m\u001b[0;36m9\u001b[0m\u001b[0;34m,\u001b[0m\u001b[0;36m21\u001b[0m\u001b[0;34m,\u001b[0m\u001b[0;36m10\u001b[0m\u001b[0;34m,\u001b[0m\u001b[0;36m16\u001b[0m\u001b[0;34m,\u001b[0m\u001b[0;34m\"Hey\"\u001b[0m\u001b[0;34m]\u001b[0m\u001b[0;34m\u001b[0m\u001b[0;34m\u001b[0m\u001b[0m\n\u001b[0;32m----> 2\u001b[0;31m \u001b[0msome\u001b[0m\u001b[0;34m.\u001b[0m\u001b[0msort\u001b[0m\u001b[0;34m(\u001b[0m\u001b[0;34m)\u001b[0m\u001b[0;34m\u001b[0m\u001b[0;34m\u001b[0m\u001b[0m\n\u001b[0m\u001b[1;32m      3\u001b[0m \u001b[0mprint\u001b[0m\u001b[0;34m(\u001b[0m\u001b[0msome\u001b[0m\u001b[0;34m)\u001b[0m\u001b[0;34m\u001b[0m\u001b[0;34m\u001b[0m\u001b[0m\n",
            "\u001b[0;31mTypeError\u001b[0m: '<' not supported between instances of 'str' and 'int'"
          ]
        }
      ]
    },
    {
      "cell_type": "code",
      "source": [
        "B = ['43', '3', 'Apple', 'Class']\n",
        "B.sort()\n",
        "print(B)"
      ],
      "metadata": {
        "colab": {
          "base_uri": "https://localhost:8080/"
        },
        "id": "s9s6XBu8GmFs",
        "outputId": "01f467eb-3268-4f83-9dac-6fdd87e15980"
      },
      "execution_count": null,
      "outputs": [
        {
          "output_type": "stream",
          "name": "stdout",
          "text": [
            "['3', '43', 'Apple', 'Class']\n"
          ]
        }
      ]
    },
    {
      "cell_type": "code",
      "source": [
        "nums = [3,41,12,9,74,15]\n",
        "print(len(nums))\n",
        "print(max(nums))\n",
        "print(min(nums))\n",
        "print(sum(nums))\n",
        "print(sum(nums)/len(nums))"
      ],
      "metadata": {
        "colab": {
          "base_uri": "https://localhost:8080/"
        },
        "id": "Tpl4ZzJ8GmH-",
        "outputId": "336e0403-c022-48d6-8c7e-8b3ab1c9f81a"
      },
      "execution_count": null,
      "outputs": [
        {
          "output_type": "stream",
          "name": "stdout",
          "text": [
            "6\n",
            "74\n",
            "3\n",
            "154\n",
            "25.666666666666668\n"
          ]
        }
      ]
    },
    {
      "cell_type": "code",
      "source": [
        "abc = 'With three words'\n",
        "stuff = abc.split()\n",
        "print(stuff)\n",
        "\n",
        "print(len(stuff))\n",
        "\n",
        "print(stuff[0])"
      ],
      "metadata": {
        "colab": {
          "base_uri": "https://localhost:8080/"
        },
        "id": "JUG9ptkUGmLC",
        "outputId": "84a10718-b763-4c1d-8f26-650e92273c99"
      },
      "execution_count": null,
      "outputs": [
        {
          "output_type": "stream",
          "name": "stdout",
          "text": [
            "['With', 'three', 'words']\n",
            "3\n",
            "With\n"
          ]
        }
      ]
    },
    {
      "cell_type": "code",
      "source": [
        "em=\"zafira.feroz@gmail.com\"\n",
        "em1 = em.split(\"@\")\n",
        "print(em1)"
      ],
      "metadata": {
        "colab": {
          "base_uri": "https://localhost:8080/"
        },
        "id": "BqnYjFjRGmN_",
        "outputId": "589d4b1d-b0e2-4278-d8a5-e1c01a7060b7"
      },
      "execution_count": null,
      "outputs": [
        {
          "output_type": "stream",
          "name": "stdout",
          "text": [
            "['zafira.feroz', 'gmail.com']\n"
          ]
        }
      ]
    },
    {
      "cell_type": "code",
      "source": [
        "line = \"A lot          of spaces\"\n",
        "etc = line.split()\n",
        "print(etc)\n",
        "\n",
        "line=\"first;second;third\"\n",
        "thing=line.split()\n",
        "print(thing)\n",
        "print(len(thing))\n",
        "\n",
        "thing=line.split(';')\n",
        "print(thing)\n",
        "print(len(thing))"
      ],
      "metadata": {
        "colab": {
          "base_uri": "https://localhost:8080/"
        },
        "id": "4CE5E1_pGmP1",
        "outputId": "b4436721-1b02-4e09-d238-9cbc718e4bda"
      },
      "execution_count": null,
      "outputs": [
        {
          "output_type": "stream",
          "name": "stdout",
          "text": [
            "['A', 'lot', 'of', 'spaces']\n",
            "['first;second;third']\n",
            "1\n",
            "['first', 'second', 'third']\n",
            "3\n"
          ]
        }
      ]
    },
    {
      "cell_type": "code",
      "source": [],
      "metadata": {
        "id": "JbEsSSEpGmRx"
      },
      "execution_count": null,
      "outputs": []
    },
    {
      "cell_type": "code",
      "source": [],
      "metadata": {
        "id": "Pxkm5AFTCAQw"
      },
      "execution_count": null,
      "outputs": []
    }
  ]
}